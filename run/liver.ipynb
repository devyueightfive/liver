{
 "cells": [
  {
   "cell_type": "code",
   "execution_count": 1,
   "metadata": {},
   "outputs": [],
   "source": [
    "import pandas as pd\n",
    "import matplotlib.pyplot as pyplot\n",
    "\n",
    "from sklearn import linear_model\n",
    "import numpy as np\n",
    "\n",
    "import os"
   ]
  },
  {
   "cell_type": "code",
   "execution_count": 2,
   "metadata": {},
   "outputs": [],
   "source": [
    "DATA_DIR = '../input'\n",
    "DATA_FILE = 'indian_liver_patient.csv'"
   ]
  },
  {
   "cell_type": "code",
   "execution_count": 3,
   "metadata": {},
   "outputs": [
    {
     "data": {
      "text/html": [
       "<div>\n",
       "<style scoped>\n",
       "    .dataframe tbody tr th:only-of-type {\n",
       "        vertical-align: middle;\n",
       "    }\n",
       "\n",
       "    .dataframe tbody tr th {\n",
       "        vertical-align: top;\n",
       "    }\n",
       "\n",
       "    .dataframe thead th {\n",
       "        text-align: right;\n",
       "    }\n",
       "</style>\n",
       "<table border=\"1\" class=\"dataframe\">\n",
       "  <thead>\n",
       "    <tr style=\"text-align: right;\">\n",
       "      <th></th>\n",
       "      <th>Age</th>\n",
       "      <th>Gender</th>\n",
       "      <th>Total_Bilirubin</th>\n",
       "      <th>Direct_Bilirubin</th>\n",
       "      <th>Alkaline_Phosphotase</th>\n",
       "      <th>Alamine_Aminotransferase</th>\n",
       "      <th>Aspartate_Aminotransferase</th>\n",
       "      <th>Total_Protiens</th>\n",
       "      <th>Albumin</th>\n",
       "      <th>Albumin_and_Globulin_Ratio</th>\n",
       "      <th>Dataset</th>\n",
       "    </tr>\n",
       "  </thead>\n",
       "  <tbody>\n",
       "    <tr>\n",
       "      <th>0</th>\n",
       "      <td>65</td>\n",
       "      <td>Female</td>\n",
       "      <td>0.7</td>\n",
       "      <td>0.1</td>\n",
       "      <td>187</td>\n",
       "      <td>16</td>\n",
       "      <td>18</td>\n",
       "      <td>6.8</td>\n",
       "      <td>3.3</td>\n",
       "      <td>0.90</td>\n",
       "      <td>1</td>\n",
       "    </tr>\n",
       "    <tr>\n",
       "      <th>1</th>\n",
       "      <td>62</td>\n",
       "      <td>Male</td>\n",
       "      <td>10.9</td>\n",
       "      <td>5.5</td>\n",
       "      <td>699</td>\n",
       "      <td>64</td>\n",
       "      <td>100</td>\n",
       "      <td>7.5</td>\n",
       "      <td>3.2</td>\n",
       "      <td>0.74</td>\n",
       "      <td>1</td>\n",
       "    </tr>\n",
       "    <tr>\n",
       "      <th>2</th>\n",
       "      <td>62</td>\n",
       "      <td>Male</td>\n",
       "      <td>7.3</td>\n",
       "      <td>4.1</td>\n",
       "      <td>490</td>\n",
       "      <td>60</td>\n",
       "      <td>68</td>\n",
       "      <td>7.0</td>\n",
       "      <td>3.3</td>\n",
       "      <td>0.89</td>\n",
       "      <td>1</td>\n",
       "    </tr>\n",
       "    <tr>\n",
       "      <th>3</th>\n",
       "      <td>58</td>\n",
       "      <td>Male</td>\n",
       "      <td>1.0</td>\n",
       "      <td>0.4</td>\n",
       "      <td>182</td>\n",
       "      <td>14</td>\n",
       "      <td>20</td>\n",
       "      <td>6.8</td>\n",
       "      <td>3.4</td>\n",
       "      <td>1.00</td>\n",
       "      <td>1</td>\n",
       "    </tr>\n",
       "    <tr>\n",
       "      <th>4</th>\n",
       "      <td>72</td>\n",
       "      <td>Male</td>\n",
       "      <td>3.9</td>\n",
       "      <td>2.0</td>\n",
       "      <td>195</td>\n",
       "      <td>27</td>\n",
       "      <td>59</td>\n",
       "      <td>7.3</td>\n",
       "      <td>2.4</td>\n",
       "      <td>0.40</td>\n",
       "      <td>1</td>\n",
       "    </tr>\n",
       "  </tbody>\n",
       "</table>\n",
       "</div>"
      ],
      "text/plain": [
       "   Age  Gender  Total_Bilirubin  Direct_Bilirubin  Alkaline_Phosphotase  \\\n",
       "0   65  Female              0.7               0.1                   187   \n",
       "1   62    Male             10.9               5.5                   699   \n",
       "2   62    Male              7.3               4.1                   490   \n",
       "3   58    Male              1.0               0.4                   182   \n",
       "4   72    Male              3.9               2.0                   195   \n",
       "\n",
       "   Alamine_Aminotransferase  Aspartate_Aminotransferase  Total_Protiens  \\\n",
       "0                        16                          18             6.8   \n",
       "1                        64                         100             7.5   \n",
       "2                        60                          68             7.0   \n",
       "3                        14                          20             6.8   \n",
       "4                        27                          59             7.3   \n",
       "\n",
       "   Albumin  Albumin_and_Globulin_Ratio  Dataset  \n",
       "0      3.3                        0.90        1  \n",
       "1      3.2                        0.74        1  \n",
       "2      3.3                        0.89        1  \n",
       "3      3.4                        1.00        1  \n",
       "4      2.4                        0.40        1  "
      ]
     },
     "execution_count": 3,
     "metadata": {},
     "output_type": "execute_result"
    }
   ],
   "source": [
    "data = pd.read_csv(os.path.join(DATA_DIR, DATA_FILE))\n",
    "data.head()"
   ]
  },
  {
   "cell_type": "code",
   "execution_count": 4,
   "metadata": {},
   "outputs": [
    {
     "name": "stdout",
     "output_type": "stream",
     "text": [
      "<class 'pandas.core.frame.DataFrame'>\n",
      "RangeIndex: 583 entries, 0 to 582\n",
      "Data columns (total 11 columns):\n",
      "Age                           583 non-null int64\n",
      "Gender                        583 non-null object\n",
      "Total_Bilirubin               583 non-null float64\n",
      "Direct_Bilirubin              583 non-null float64\n",
      "Alkaline_Phosphotase          583 non-null int64\n",
      "Alamine_Aminotransferase      583 non-null int64\n",
      "Aspartate_Aminotransferase    583 non-null int64\n",
      "Total_Protiens                583 non-null float64\n",
      "Albumin                       583 non-null float64\n",
      "Albumin_and_Globulin_Ratio    579 non-null float64\n",
      "Dataset                       583 non-null int64\n",
      "dtypes: float64(5), int64(5), object(1)\n",
      "memory usage: 50.2+ KB\n"
     ]
    }
   ],
   "source": [
    "data.info()"
   ]
  },
  {
   "cell_type": "code",
   "execution_count": 5,
   "metadata": {},
   "outputs": [
    {
     "data": {
      "text/plain": [
       "<matplotlib.axes._subplots.AxesSubplot at 0x221f3792a58>"
      ]
     },
     "execution_count": 5,
     "metadata": {},
     "output_type": "execute_result"
    },
    {
     "data": {
      "image/png": "[encoded data removed]",
      "text/plain": [
       "<Figure size 432x288 with 1 Axes>"
      ]
     },
     "metadata": {
      "needs_background": "light"
     },
     "output_type": "display_data"
    }
   ],
   "source": [
    "data.Age.plot.hist(color = 'black', bins = 50)"
   ]
  },
  {
   "cell_type": "code",
   "execution_count": 7,
   "metadata": {},
   "outputs": [
    {
     "data": {
      "image/png": "[encoded data removed]",
      "text/plain": [
       "<Figure size 432x288 with 3 Axes>"
      ]
     },
     "metadata": {
      "needs_background": "light"
     },
     "output_type": "display_data"
    }
   ],
   "source": [
    "ax1 =  pyplot.subplot(311)\n",
    "pyplot.hist(data.Age, bins = 50, color = 'black')\n",
    "ax2 =  pyplot.subplot(312)\n",
    "pyplot.hist(data[data.Gender =='Male'].Age, bins = 50, color = 'blue')\n",
    "ax3 =  pyplot.subplot(313)\n",
    "pyplot.hist(data[data.Gender =='Female'].Age, bins = 50, color = 'pink')\n",
    "pyplot.show()"
   ]
  },
  {
   "cell_type": "code",
   "execution_count": 8,
   "metadata": {},
   "outputs": [
    {
     "data": {
      "text/html": [
       "<div>\n",
       "<style scoped>\n",
       "    .dataframe tbody tr th:only-of-type {\n",
       "        vertical-align: middle;\n",
       "    }\n",
       "\n",
       "    .dataframe tbody tr th {\n",
       "        vertical-align: top;\n",
       "    }\n",
       "\n",
       "    .dataframe thead th {\n",
       "        text-align: right;\n",
       "    }\n",
       "</style>\n",
       "<table border=\"1\" class=\"dataframe\">\n",
       "  <thead>\n",
       "    <tr style=\"text-align: right;\">\n",
       "      <th></th>\n",
       "      <th>Age</th>\n",
       "      <th>Total_Bilirubin</th>\n",
       "      <th>Direct_Bilirubin</th>\n",
       "      <th>Alkaline_Phosphotase</th>\n",
       "      <th>Alamine_Aminotransferase</th>\n",
       "      <th>Aspartate_Aminotransferase</th>\n",
       "      <th>Total_Protiens</th>\n",
       "      <th>Albumin</th>\n",
       "      <th>Albumin_and_Globulin_Ratio</th>\n",
       "      <th>Dataset</th>\n",
       "    </tr>\n",
       "  </thead>\n",
       "  <tbody>\n",
       "    <tr>\n",
       "      <th>Age</th>\n",
       "      <td>1.000000</td>\n",
       "      <td>0.011763</td>\n",
       "      <td>0.007529</td>\n",
       "      <td>0.080425</td>\n",
       "      <td>-0.086883</td>\n",
       "      <td>-0.019910</td>\n",
       "      <td>-0.187461</td>\n",
       "      <td>-0.265924</td>\n",
       "      <td>-0.216408</td>\n",
       "      <td>-0.137351</td>\n",
       "    </tr>\n",
       "    <tr>\n",
       "      <th>Total_Bilirubin</th>\n",
       "      <td>0.011763</td>\n",
       "      <td>1.000000</td>\n",
       "      <td>0.874618</td>\n",
       "      <td>0.206669</td>\n",
       "      <td>0.214065</td>\n",
       "      <td>0.237831</td>\n",
       "      <td>-0.008099</td>\n",
       "      <td>-0.222250</td>\n",
       "      <td>-0.206267</td>\n",
       "      <td>-0.220208</td>\n",
       "    </tr>\n",
       "    <tr>\n",
       "      <th>Direct_Bilirubin</th>\n",
       "      <td>0.007529</td>\n",
       "      <td>0.874618</td>\n",
       "      <td>1.000000</td>\n",
       "      <td>0.234939</td>\n",
       "      <td>0.233894</td>\n",
       "      <td>0.257544</td>\n",
       "      <td>-0.000139</td>\n",
       "      <td>-0.228531</td>\n",
       "      <td>-0.200125</td>\n",
       "      <td>-0.246046</td>\n",
       "    </tr>\n",
       "    <tr>\n",
       "      <th>Alkaline_Phosphotase</th>\n",
       "      <td>0.080425</td>\n",
       "      <td>0.206669</td>\n",
       "      <td>0.234939</td>\n",
       "      <td>1.000000</td>\n",
       "      <td>0.125680</td>\n",
       "      <td>0.167196</td>\n",
       "      <td>-0.028514</td>\n",
       "      <td>-0.165453</td>\n",
       "      <td>-0.234166</td>\n",
       "      <td>-0.184866</td>\n",
       "    </tr>\n",
       "    <tr>\n",
       "      <th>Alamine_Aminotransferase</th>\n",
       "      <td>-0.086883</td>\n",
       "      <td>0.214065</td>\n",
       "      <td>0.233894</td>\n",
       "      <td>0.125680</td>\n",
       "      <td>1.000000</td>\n",
       "      <td>0.791966</td>\n",
       "      <td>-0.042518</td>\n",
       "      <td>-0.029742</td>\n",
       "      <td>-0.002375</td>\n",
       "      <td>-0.163416</td>\n",
       "    </tr>\n",
       "    <tr>\n",
       "      <th>Aspartate_Aminotransferase</th>\n",
       "      <td>-0.019910</td>\n",
       "      <td>0.237831</td>\n",
       "      <td>0.257544</td>\n",
       "      <td>0.167196</td>\n",
       "      <td>0.791966</td>\n",
       "      <td>1.000000</td>\n",
       "      <td>-0.025645</td>\n",
       "      <td>-0.085290</td>\n",
       "      <td>-0.070040</td>\n",
       "      <td>-0.151934</td>\n",
       "    </tr>\n",
       "    <tr>\n",
       "      <th>Total_Protiens</th>\n",
       "      <td>-0.187461</td>\n",
       "      <td>-0.008099</td>\n",
       "      <td>-0.000139</td>\n",
       "      <td>-0.028514</td>\n",
       "      <td>-0.042518</td>\n",
       "      <td>-0.025645</td>\n",
       "      <td>1.000000</td>\n",
       "      <td>0.784053</td>\n",
       "      <td>0.234887</td>\n",
       "      <td>0.035008</td>\n",
       "    </tr>\n",
       "    <tr>\n",
       "      <th>Albumin</th>\n",
       "      <td>-0.265924</td>\n",
       "      <td>-0.222250</td>\n",
       "      <td>-0.228531</td>\n",
       "      <td>-0.165453</td>\n",
       "      <td>-0.029742</td>\n",
       "      <td>-0.085290</td>\n",
       "      <td>0.784053</td>\n",
       "      <td>1.000000</td>\n",
       "      <td>0.689632</td>\n",
       "      <td>0.161388</td>\n",
       "    </tr>\n",
       "    <tr>\n",
       "      <th>Albumin_and_Globulin_Ratio</th>\n",
       "      <td>-0.216408</td>\n",
       "      <td>-0.206267</td>\n",
       "      <td>-0.200125</td>\n",
       "      <td>-0.234166</td>\n",
       "      <td>-0.002375</td>\n",
       "      <td>-0.070040</td>\n",
       "      <td>0.234887</td>\n",
       "      <td>0.689632</td>\n",
       "      <td>1.000000</td>\n",
       "      <td>0.163131</td>\n",
       "    </tr>\n",
       "    <tr>\n",
       "      <th>Dataset</th>\n",
       "      <td>-0.137351</td>\n",
       "      <td>-0.220208</td>\n",
       "      <td>-0.246046</td>\n",
       "      <td>-0.184866</td>\n",
       "      <td>-0.163416</td>\n",
       "      <td>-0.151934</td>\n",
       "      <td>0.035008</td>\n",
       "      <td>0.161388</td>\n",
       "      <td>0.163131</td>\n",
       "      <td>1.000000</td>\n",
       "    </tr>\n",
       "  </tbody>\n",
       "</table>\n",
       "</div>"
      ],
      "text/plain": [
       "                                 Age  Total_Bilirubin  Direct_Bilirubin  \\\n",
       "Age                         1.000000         0.011763          0.007529   \n",
       "Total_Bilirubin             0.011763         1.000000          0.874618   \n",
       "Direct_Bilirubin            0.007529         0.874618          1.000000   \n",
       "Alkaline_Phosphotase        0.080425         0.206669          0.234939   \n",
       "Alamine_Aminotransferase   -0.086883         0.214065          0.233894   \n",
       "Aspartate_Aminotransferase -0.019910         0.237831          0.257544   \n",
       "Total_Protiens             -0.187461        -0.008099         -0.000139   \n",
       "Albumin                    -0.265924        -0.222250         -0.228531   \n",
       "Albumin_and_Globulin_Ratio -0.216408        -0.206267         -0.200125   \n",
       "Dataset                    -0.137351        -0.220208         -0.246046   \n",
       "\n",
       "                            Alkaline_Phosphotase  Alamine_Aminotransferase  \\\n",
       "Age                                     0.080425                 -0.086883   \n",
       "Total_Bilirubin                         0.206669                  0.214065   \n",
       "Direct_Bilirubin                        0.234939                  0.233894   \n",
       "Alkaline_Phosphotase                    1.000000                  0.125680   \n",
       "Alamine_Aminotransferase                0.125680                  1.000000   \n",
       "Aspartate_Aminotransferase              0.167196                  0.791966   \n",
       "Total_Protiens                         -0.028514                 -0.042518   \n",
       "Albumin                                -0.165453                 -0.029742   \n",
       "Albumin_and_Globulin_Ratio             -0.234166                 -0.002375   \n",
       "Dataset                                -0.184866                 -0.163416   \n",
       "\n",
       "                            Aspartate_Aminotransferase  Total_Protiens  \\\n",
       "Age                                          -0.019910       -0.187461   \n",
       "Total_Bilirubin                               0.237831       -0.008099   \n",
       "Direct_Bilirubin                              0.257544       -0.000139   \n",
       "Alkaline_Phosphotase                          0.167196       -0.028514   \n",
       "Alamine_Aminotransferase                      0.791966       -0.042518   \n",
       "Aspartate_Aminotransferase                    1.000000       -0.025645   \n",
       "Total_Protiens                               -0.025645        1.000000   \n",
       "Albumin                                      -0.085290        0.784053   \n",
       "Albumin_and_Globulin_Ratio                   -0.070040        0.234887   \n",
       "Dataset                                      -0.151934        0.035008   \n",
       "\n",
       "                             Albumin  Albumin_and_Globulin_Ratio   Dataset  \n",
       "Age                        -0.265924                   -0.216408 -0.137351  \n",
       "Total_Bilirubin            -0.222250                   -0.206267 -0.220208  \n",
       "Direct_Bilirubin           -0.228531                   -0.200125 -0.246046  \n",
       "Alkaline_Phosphotase       -0.165453                   -0.234166 -0.184866  \n",
       "Alamine_Aminotransferase   -0.029742                   -0.002375 -0.163416  \n",
       "Aspartate_Aminotransferase -0.085290                   -0.070040 -0.151934  \n",
       "Total_Protiens              0.784053                    0.234887  0.035008  \n",
       "Albumin                     1.000000                    0.689632  0.161388  \n",
       "Albumin_and_Globulin_Ratio  0.689632                    1.000000  0.163131  \n",
       "Dataset                     0.161388                    0.163131  1.000000  "
      ]
     },
     "execution_count": 8,
     "metadata": {},
     "output_type": "execute_result"
    }
   ],
   "source": [
    "data.corr()"
   ]
  },
  {
   "cell_type": "code",
   "execution_count": 9,
   "metadata": {},
   "outputs": [
    {
     "data": {
      "text/plain": [
       "Total_Bilirubin           Direct_Bilirubin              0.874618\n",
       "Alamine_Aminotransferase  Aspartate_Aminotransferase    0.791966\n",
       "Total_Protiens            Albumin                       0.784053\n",
       "Albumin                   Albumin_and_Globulin_Ratio    0.689632\n",
       "dtype: float64"
      ]
     },
     "execution_count": 9,
     "metadata": {},
     "output_type": "execute_result"
    }
   ],
   "source": [
    "correlation = data.corr().abs().unstack()\n",
    "correlation = correlation.loc[(correlation<1)&(correlation>0.5)].drop_duplicates()\n",
    "correlation"
   ]
  },
  {
   "cell_type": "code",
   "execution_count": 10,
   "metadata": {},
   "outputs": [
    {
     "data": {
      "text/plain": [
       "[('Total_Bilirubin', 'Direct_Bilirubin'),\n",
       " ('Alamine_Aminotransferase', 'Aspartate_Aminotransferase'),\n",
       " ('Total_Protiens', 'Albumin'),\n",
       " ('Albumin', 'Albumin_and_Globulin_Ratio')]"
      ]
     },
     "execution_count": 10,
     "metadata": {},
     "output_type": "execute_result"
    }
   ],
   "source": [
    "list(correlation.index)"
   ]
  },
  {
   "cell_type": "markdown",
   "metadata": {},
   "source": [
    "## Study 'Total_Bilirubin' vs. 'Direct_Bilirubin' dependency"
   ]
  },
  {
   "cell_type": "code",
   "execution_count": 11,
   "metadata": {},
   "outputs": [
    {
     "data": {
      "image/png": "[encoded data removed]",
      "text/plain": [
       "<Figure size 432x288 with 1 Axes>"
      ]
     },
     "metadata": {
      "needs_background": "light"
     },
     "output_type": "display_data"
    }
   ],
   "source": [
    "pyplot.scatter(x = data['Total_Bilirubin'], y = data['Direct_Bilirubin'], color = 'black', s = 0.5)\n",
    "pyplot.show()"
   ]
  },
  {
   "cell_type": "code",
   "execution_count": 29,
   "metadata": {},
   "outputs": [
    {
     "data": {
      "text/plain": [
       "Male      440\n",
       "Female    142\n",
       "Name: Gender, dtype: int64"
      ]
     },
     "execution_count": 29,
     "metadata": {},
     "output_type": "execute_result"
    }
   ],
   "source": [
    "data['Gender'].value_counts()"
   ]
  },
  {
   "cell_type": "markdown",
   "metadata": {},
   "source": [
    "#### Find dependency rule and drop values with great distance to dependency"
   ]
  },
  {
   "cell_type": "code",
   "execution_count": 13,
   "metadata": {},
   "outputs": [
    {
     "data": {
      "image/png": "[encoded data removed]",
      "text/plain": [
       "<Figure size 432x288 with 1 Axes>"
      ]
     },
     "metadata": {
      "needs_background": "light"
     },
     "output_type": "display_data"
    }
   ],
   "source": [
    "male = data[data.Gender =='Male']\n",
    "female = data[data.Gender =='Female']\n",
    "pyplot.scatter(x = male['Total_Bilirubin'], y = male['Direct_Bilirubin'], color = 'red', s = 0.5)\n",
    "pyplot.scatter(x = female['Total_Bilirubin'], y = female['Direct_Bilirubin'], color = 'black', s = 0.5)\n",
    "pyplot.xlabel('Total_Bilirubin')\n",
    "pyplot.ylabel('Direct_Bilirubin')\n",
    "pyplot.show()"
   ]
  },
  {
   "cell_type": "code",
   "execution_count": 14,
   "metadata": {},
   "outputs": [
    {
     "name": "stdout",
     "output_type": "stream",
     "text": [
      "Linear Regression Model Coefs: 0.3955799627429304 0.18116743679724934\n",
      "The score is:  0.7649565236811194\n"
     ]
    }
   ],
   "source": [
    "model = linear_model.LinearRegression()\n",
    "X = np.array(data['Total_Bilirubin']).reshape((len(data['Total_Bilirubin']),1))\n",
    "Y = np.array(data['Direct_Bilirubin']).reshape((len(data['Direct_Bilirubin']),1))\n",
    "model.fit(X,Y)\n",
    "print(\"Linear Regression Model Coefs:\",model.coef_[0][0],model.intercept_[0])\n",
    "print(\"The score is: \",model.score(X,Y))"
   ]
  },
  {
   "cell_type": "markdown",
   "metadata": {},
   "source": [
    "#### Direct_Bilirubin = 0.396 *Total_Bilirubin +0.765"
   ]
  },
  {
   "cell_type": "code",
   "execution_count": 15,
   "metadata": {},
   "outputs": [
    {
     "data": {
      "image/png": "[encoded data removed]",
      "text/plain": [
       "<Figure size 432x288 with 1 Axes>"
      ]
     },
     "metadata": {
      "needs_background": "light"
     },
     "output_type": "display_data"
    }
   ],
   "source": [
    "Z = [0.3955799627429304*x+ 0.18116743679724934 for x in X]\n",
    "\n",
    "pyplot.scatter(X, Y, color = 'black', s = 0.5 )\n",
    "pyplot.plot(X, Z,\"b--\")\n",
    "pyplot.xlabel('Total_Bilirubin')\n",
    "pyplot.ylabel('Direct_Bilirubin')\n",
    "pyplot.show()"
   ]
  },
  {
   "cell_type": "markdown",
   "metadata": {},
   "source": [
    "#### get points that have dig distance to dependency"
   ]
  },
  {
   "cell_type": "code",
   "execution_count": 16,
   "metadata": {},
   "outputs": [
    {
     "data": {
      "text/html": [
       "<div>\n",
       "<style scoped>\n",
       "    .dataframe tbody tr th:only-of-type {\n",
       "        vertical-align: middle;\n",
       "    }\n",
       "\n",
       "    .dataframe tbody tr th {\n",
       "        vertical-align: top;\n",
       "    }\n",
       "\n",
       "    .dataframe thead th {\n",
       "        text-align: right;\n",
       "    }\n",
       "</style>\n",
       "<table border=\"1\" class=\"dataframe\">\n",
       "  <thead>\n",
       "    <tr style=\"text-align: right;\">\n",
       "      <th></th>\n",
       "      <th>Age</th>\n",
       "      <th>Gender</th>\n",
       "      <th>Total_Bilirubin</th>\n",
       "      <th>Direct_Bilirubin</th>\n",
       "      <th>Alkaline_Phosphotase</th>\n",
       "      <th>Alamine_Aminotransferase</th>\n",
       "      <th>Aspartate_Aminotransferase</th>\n",
       "      <th>Total_Protiens</th>\n",
       "      <th>Albumin</th>\n",
       "      <th>Albumin_and_Globulin_Ratio</th>\n",
       "      <th>Dataset</th>\n",
       "      <th>distance</th>\n",
       "    </tr>\n",
       "  </thead>\n",
       "  <tbody>\n",
       "    <tr>\n",
       "      <th>166</th>\n",
       "      <td>55</td>\n",
       "      <td>Male</td>\n",
       "      <td>75.0</td>\n",
       "      <td>3.6</td>\n",
       "      <td>332</td>\n",
       "      <td>40</td>\n",
       "      <td>66</td>\n",
       "      <td>6.2</td>\n",
       "      <td>2.5</td>\n",
       "      <td>0.6</td>\n",
       "      <td>1</td>\n",
       "      <td>24.409228</td>\n",
       "    </tr>\n",
       "    <tr>\n",
       "      <th>246</th>\n",
       "      <td>55</td>\n",
       "      <td>Male</td>\n",
       "      <td>1.8</td>\n",
       "      <td>9.0</td>\n",
       "      <td>272</td>\n",
       "      <td>22</td>\n",
       "      <td>79</td>\n",
       "      <td>6.1</td>\n",
       "      <td>2.7</td>\n",
       "      <td>0.7</td>\n",
       "      <td>1</td>\n",
       "      <td>7.538399</td>\n",
       "    </tr>\n",
       "    <tr>\n",
       "      <th>261</th>\n",
       "      <td>33</td>\n",
       "      <td>Male</td>\n",
       "      <td>1.5</td>\n",
       "      <td>7.0</td>\n",
       "      <td>505</td>\n",
       "      <td>205</td>\n",
       "      <td>140</td>\n",
       "      <td>7.5</td>\n",
       "      <td>3.9</td>\n",
       "      <td>1.0</td>\n",
       "      <td>1</td>\n",
       "      <td>5.788978</td>\n",
       "    </tr>\n",
       "    <tr>\n",
       "      <th>531</th>\n",
       "      <td>40</td>\n",
       "      <td>Male</td>\n",
       "      <td>30.8</td>\n",
       "      <td>18.3</td>\n",
       "      <td>285</td>\n",
       "      <td>110</td>\n",
       "      <td>186</td>\n",
       "      <td>7.9</td>\n",
       "      <td>2.7</td>\n",
       "      <td>0.5</td>\n",
       "      <td>1</td>\n",
       "      <td>5.518852</td>\n",
       "    </tr>\n",
       "    <tr>\n",
       "      <th>504</th>\n",
       "      <td>32</td>\n",
       "      <td>Male</td>\n",
       "      <td>30.5</td>\n",
       "      <td>17.1</td>\n",
       "      <td>218</td>\n",
       "      <td>39</td>\n",
       "      <td>79</td>\n",
       "      <td>5.5</td>\n",
       "      <td>2.7</td>\n",
       "      <td>0.9</td>\n",
       "      <td>1</td>\n",
       "      <td>4.513341</td>\n",
       "    </tr>\n",
       "  </tbody>\n",
       "</table>\n",
       "</div>"
      ],
      "text/plain": [
       "     Age Gender  Total_Bilirubin  Direct_Bilirubin  Alkaline_Phosphotase  \\\n",
       "166   55   Male             75.0               3.6                   332   \n",
       "246   55   Male              1.8               9.0                   272   \n",
       "261   33   Male              1.5               7.0                   505   \n",
       "531   40   Male             30.8              18.3                   285   \n",
       "504   32   Male             30.5              17.1                   218   \n",
       "\n",
       "     Alamine_Aminotransferase  Aspartate_Aminotransferase  Total_Protiens  \\\n",
       "166                        40                          66             6.2   \n",
       "246                        22                          79             6.1   \n",
       "261                       205                         140             7.5   \n",
       "531                       110                         186             7.9   \n",
       "504                        39                          79             5.5   \n",
       "\n",
       "     Albumin  Albumin_and_Globulin_Ratio  Dataset   distance  \n",
       "166      2.5                         0.6        1  24.409228  \n",
       "246      2.7                         0.7        1   7.538399  \n",
       "261      3.9                         1.0        1   5.788978  \n",
       "531      2.7                         0.5        1   5.518852  \n",
       "504      2.7                         0.9        1   4.513341  "
      ]
     },
     "execution_count": 16,
     "metadata": {},
     "output_type": "execute_result"
    }
   ],
   "source": [
    "#distance from point (x0,y0) to line y = kx+b\n",
    "def distance(x0,y0,k,b):\n",
    "    x1=(x0+k*(y0-b))/(k*k+1)\n",
    "    y1=k*x1+b\n",
    "    d=np.sqrt(np.square(x1-x0)+np.square(y1-y0))\n",
    "    return np.abs(d)\n",
    "out = data\n",
    "out = out.assign(distance = lambda x: \n",
    "           distance(\n",
    "               x['Total_Bilirubin'], \n",
    "               x['Direct_Bilirubin'], \n",
    "               0.3955799627429304, \n",
    "               0.18116743679724934)\n",
    "          ).sort_values(by = 'distance', ascending = False)\n",
    "\n",
    "out.head()"
   ]
  },
  {
   "cell_type": "code",
   "execution_count": 17,
   "metadata": {},
   "outputs": [
    {
     "data": {
      "text/html": [
       "<div>\n",
       "<style scoped>\n",
       "    .dataframe tbody tr th:only-of-type {\n",
       "        vertical-align: middle;\n",
       "    }\n",
       "\n",
       "    .dataframe tbody tr th {\n",
       "        vertical-align: top;\n",
       "    }\n",
       "\n",
       "    .dataframe thead th {\n",
       "        text-align: right;\n",
       "    }\n",
       "</style>\n",
       "<table border=\"1\" class=\"dataframe\">\n",
       "  <thead>\n",
       "    <tr style=\"text-align: right;\">\n",
       "      <th></th>\n",
       "      <th>Age</th>\n",
       "      <th>Gender</th>\n",
       "      <th>Total_Bilirubin</th>\n",
       "      <th>Direct_Bilirubin</th>\n",
       "      <th>Alkaline_Phosphotase</th>\n",
       "      <th>Alamine_Aminotransferase</th>\n",
       "      <th>Aspartate_Aminotransferase</th>\n",
       "      <th>Total_Protiens</th>\n",
       "      <th>Albumin</th>\n",
       "      <th>Albumin_and_Globulin_Ratio</th>\n",
       "      <th>Dataset</th>\n",
       "      <th>distance</th>\n",
       "    </tr>\n",
       "  </thead>\n",
       "  <tbody>\n",
       "    <tr>\n",
       "      <th>246</th>\n",
       "      <td>55</td>\n",
       "      <td>Male</td>\n",
       "      <td>1.8</td>\n",
       "      <td>9.0</td>\n",
       "      <td>272</td>\n",
       "      <td>22</td>\n",
       "      <td>79</td>\n",
       "      <td>6.1</td>\n",
       "      <td>2.7</td>\n",
       "      <td>0.7</td>\n",
       "      <td>1</td>\n",
       "      <td>7.538399</td>\n",
       "    </tr>\n",
       "    <tr>\n",
       "      <th>261</th>\n",
       "      <td>33</td>\n",
       "      <td>Male</td>\n",
       "      <td>1.5</td>\n",
       "      <td>7.0</td>\n",
       "      <td>505</td>\n",
       "      <td>205</td>\n",
       "      <td>140</td>\n",
       "      <td>7.5</td>\n",
       "      <td>3.9</td>\n",
       "      <td>1.0</td>\n",
       "      <td>1</td>\n",
       "      <td>5.788978</td>\n",
       "    </tr>\n",
       "    <tr>\n",
       "      <th>531</th>\n",
       "      <td>40</td>\n",
       "      <td>Male</td>\n",
       "      <td>30.8</td>\n",
       "      <td>18.3</td>\n",
       "      <td>285</td>\n",
       "      <td>110</td>\n",
       "      <td>186</td>\n",
       "      <td>7.9</td>\n",
       "      <td>2.7</td>\n",
       "      <td>0.5</td>\n",
       "      <td>1</td>\n",
       "      <td>5.518852</td>\n",
       "    </tr>\n",
       "    <tr>\n",
       "      <th>504</th>\n",
       "      <td>32</td>\n",
       "      <td>Male</td>\n",
       "      <td>30.5</td>\n",
       "      <td>17.1</td>\n",
       "      <td>218</td>\n",
       "      <td>39</td>\n",
       "      <td>79</td>\n",
       "      <td>5.5</td>\n",
       "      <td>2.7</td>\n",
       "      <td>0.9</td>\n",
       "      <td>1</td>\n",
       "      <td>4.513341</td>\n",
       "    </tr>\n",
       "    <tr>\n",
       "      <th>575</th>\n",
       "      <td>32</td>\n",
       "      <td>Male</td>\n",
       "      <td>25.0</td>\n",
       "      <td>13.7</td>\n",
       "      <td>560</td>\n",
       "      <td>41</td>\n",
       "      <td>88</td>\n",
       "      <td>7.9</td>\n",
       "      <td>2.5</td>\n",
       "      <td>2.5</td>\n",
       "      <td>1</td>\n",
       "      <td>3.374871</td>\n",
       "    </tr>\n",
       "  </tbody>\n",
       "</table>\n",
       "</div>"
      ],
      "text/plain": [
       "     Age Gender  Total_Bilirubin  Direct_Bilirubin  Alkaline_Phosphotase  \\\n",
       "246   55   Male              1.8               9.0                   272   \n",
       "261   33   Male              1.5               7.0                   505   \n",
       "531   40   Male             30.8              18.3                   285   \n",
       "504   32   Male             30.5              17.1                   218   \n",
       "575   32   Male             25.0              13.7                   560   \n",
       "\n",
       "     Alamine_Aminotransferase  Aspartate_Aminotransferase  Total_Protiens  \\\n",
       "246                        22                          79             6.1   \n",
       "261                       205                         140             7.5   \n",
       "531                       110                         186             7.9   \n",
       "504                        39                          79             5.5   \n",
       "575                        41                          88             7.9   \n",
       "\n",
       "     Albumin  Albumin_and_Globulin_Ratio  Dataset  distance  \n",
       "246      2.7                         0.7        1  7.538399  \n",
       "261      3.9                         1.0        1  5.788978  \n",
       "531      2.7                         0.5        1  5.518852  \n",
       "504      2.7                         0.9        1  4.513341  \n",
       "575      2.5                         2.5        1  3.374871  "
      ]
     },
     "execution_count": 17,
     "metadata": {},
     "output_type": "execute_result"
    }
   ],
   "source": [
    "data = out[out.distance<10]\n",
    "data.sort_values(by = 'distance', ascending = False).head()"
   ]
  },
  {
   "cell_type": "markdown",
   "metadata": {},
   "source": [
    "#### Make linear regression again"
   ]
  },
  {
   "cell_type": "code",
   "execution_count": 18,
   "metadata": {},
   "outputs": [
    {
     "name": "stdout",
     "output_type": "stream",
     "text": [
      "Linear Regression Model Coefs: 0.5046176958418559 -0.11999042174384544\n",
      "The score is:  0.9600557894944014\n"
     ]
    }
   ],
   "source": [
    "model = linear_model.LinearRegression()\n",
    "X = np.array(data['Total_Bilirubin']).reshape((len(data['Total_Bilirubin']),1))\n",
    "Y = np.array(data['Direct_Bilirubin']).reshape((len(data['Direct_Bilirubin']),1))\n",
    "model.fit(X,Y)\n",
    "print(\"Linear Regression Model Coefs:\",model.coef_[0][0],model.intercept_[0])\n",
    "print(\"The score is: \",model.score(X,Y))"
   ]
  },
  {
   "cell_type": "code",
   "execution_count": 19,
   "metadata": {},
   "outputs": [
    {
     "data": {
      "image/png": "[encoded data removed]",
      "text/plain": [
       "<Figure size 432x288 with 1 Axes>"
      ]
     },
     "metadata": {
      "needs_background": "light"
     },
     "output_type": "display_data"
    }
   ],
   "source": [
    "Z = [0.5046176958418559*x+ -0.11999042174384544 for x in X]\n",
    "pyplot.scatter(X, Y, color = 'black', s= 0.8)\n",
    "pyplot.plot(X, Z,\"g--\")\n",
    "pyplot.xlabel('Total_Bilirubin')\n",
    "pyplot.ylabel('Direct_Bilirubin')\n",
    "pyplot.show()"
   ]
  },
  {
   "cell_type": "markdown",
   "metadata": {},
   "source": [
    "## Study Alamine_Aminotransferase vs. Aspartate_Aminotransferase  dependency"
   ]
  },
  {
   "cell_type": "code",
   "execution_count": 23,
   "metadata": {},
   "outputs": [
    {
     "name": "stdout",
     "output_type": "stream",
     "text": [
      "Linear Regression Model Coefs: 0.5005707160767192 25.72760708332826\n",
      "The score is:  0.6271958642020454\n"
     ]
    },
    {
     "data": {
      "image/png": "[encoded data removed]",
      "text/plain": [
       "<Figure size 432x288 with 1 Axes>"
      ]
     },
     "metadata": {
      "needs_background": "light"
     },
     "output_type": "display_data"
    }
   ],
   "source": [
    "model = linear_model.LinearRegression()\n",
    "X = np.array(data['Aspartate_Aminotransferase']).reshape((len(data['Aspartate_Aminotransferase']),1))\n",
    "Y = np.array(data['Alamine_Aminotransferase']).reshape((len(data['Alamine_Aminotransferase']),1))\n",
    "model.fit(X,Y)\n",
    "print(\"Linear Regression Model Coefs:\",model.coef_[0][0],model.intercept_[0])\n",
    "print(\"The score is: \",model.score(X,Y))\n",
    "\n",
    "Z = [0.5005707160767192*x+ 25.72760708332826 for x in X]\n",
    "\n",
    "pyplot.scatter(X, Y, color = 'black', s = 0.5 )\n",
    "pyplot.plot(X, Z,\"b--\")\n",
    "pyplot.xlabel('Aspartate_Aminotransferase')\n",
    "pyplot.ylabel('Alamine_Aminotransferase')\n",
    "pyplot.show()"
   ]
  },
  {
   "cell_type": "raw",
   "metadata": {},
   "source": [
    "no huge dependency"
   ]
  },
  {
   "cell_type": "markdown",
   "metadata": {},
   "source": [
    "## Stydy Total_Protiens vs. Albumin dependency"
   ]
  },
  {
   "cell_type": "code",
   "execution_count": 25,
   "metadata": {},
   "outputs": [
    {
     "name": "stdout",
     "output_type": "stream",
     "text": [
      "Linear Regression Model Coefs: 1.0705124421029262 3.1191041939954083\n",
      "The score is:  0.6149325916748329\n"
     ]
    },
    {
     "data": {
      "image/png": "[encoded data removed]",
      "text/plain": [
       "<Figure size 432x288 with 1 Axes>"
      ]
     },
     "metadata": {
      "needs_background": "light"
     },
     "output_type": "display_data"
    }
   ],
   "source": [
    "model = linear_model.LinearRegression()\n",
    "X = np.array(data['Albumin']).reshape((len(data['Albumin']),1))\n",
    "Y = np.array(data['Total_Protiens']).reshape((len(data['Total_Protiens']),1))\n",
    "model.fit(X,Y)\n",
    "print(\"Linear Regression Model Coefs:\",model.coef_[0][0],model.intercept_[0])\n",
    "print(\"The score is: \",model.score(X,Y))\n",
    "\n",
    "Z = [1.0705124421029262*x+ 3.1191041939954083 for x in X]\n",
    "\n",
    "pyplot.scatter(X, Y, color = 'black', s = 0.5 )\n",
    "pyplot.plot(X, Z,\"b--\")\n",
    "pyplot.xlabel('Albumin')\n",
    "pyplot.ylabel('Total_Protiens')\n",
    "pyplot.show()"
   ]
  },
  {
   "cell_type": "code",
   "execution_count": 28,
   "metadata": {},
   "outputs": [
    {
     "data": {
      "text/plain": [
       "1    415\n",
       "2    167\n",
       "Name: Dataset, dtype: int64"
      ]
     },
     "execution_count": 28,
     "metadata": {},
     "output_type": "execute_result"
    }
   ],
   "source": [
    "data.Dataset.value_counts()"
   ]
  },
  {
   "cell_type": "markdown",
   "metadata": {},
   "source": [
    "## Study Albumin vs. Albumin_and_Globulin_Ratio dependency"
   ]
  },
  {
   "cell_type": "code",
   "execution_count": 40,
   "metadata": {},
   "outputs": [],
   "source": [
    "#clear\n",
    "out = data[data['Albumin_and_Globulin_Ratio'].isna()]\n",
    "data = data[data['Albumin_and_Globulin_Ratio'].isna() ==False]\n"
   ]
  },
  {
   "cell_type": "code",
   "execution_count": 42,
   "metadata": {},
   "outputs": [
    {
     "name": "stdout",
     "output_type": "stream",
     "text": [
      "Linear Regression Model Coefs: 0.27713302978478876 0.07757212949748071\n",
      "The score is:  0.475010227719443\n"
     ]
    },
    {
     "data": {
      "image/png": "[encoded data removed]",
      "text/plain": [
       "<Figure size 432x288 with 1 Axes>"
      ]
     },
     "metadata": {
      "needs_background": "light"
     },
     "output_type": "display_data"
    }
   ],
   "source": [
    "x_name = 'Albumin'\n",
    "y_name  = 'Albumin_and_Globulin_Ratio'\n",
    "model = linear_model.LinearRegression()\n",
    "X = np.array(data[x_name]).reshape((len(data[x_name]),1))\n",
    "Y = np.array(data[y_name]).reshape((len(data[y_name]),1))\n",
    "model.fit(X,Y)\n",
    "print(\"Linear Regression Model Coefs:\",model.coef_[0][0],model.intercept_[0])\n",
    "print(\"The score is: \",model.score(X,Y))\n",
    "\n",
    "Z = [0.27713302978478876  *x+ 0.07757212949748071 for x in X]\n",
    "\n",
    "pyplot.scatter(X, Y, color = 'black', s = 0.5 )\n",
    "pyplot.plot(X, Z,\"b--\")\n",
    "pyplot.xlabel(x_name)\n",
    "pyplot.ylabel(y_name)\n",
    "pyplot.show()"
   ]
  },
  {
   "cell_type": "code",
   "execution_count": 43,
   "metadata": {},
   "outputs": [
    {
     "data": {
      "text/plain": [
       "['Age',\n",
       " 'Gender',\n",
       " 'Total_Bilirubin',\n",
       " 'Direct_Bilirubin',\n",
       " 'Alkaline_Phosphotase',\n",
       " 'Alamine_Aminotransferase',\n",
       " 'Aspartate_Aminotransferase',\n",
       " 'Total_Protiens',\n",
       " 'Albumin',\n",
       " 'Albumin_and_Globulin_Ratio',\n",
       " 'Dataset',\n",
       " 'distance']"
      ]
     },
     "execution_count": 43,
     "metadata": {},
     "output_type": "execute_result"
    }
   ],
   "source": [
    "list(data.columns)"
   ]
  },
  {
   "cell_type": "code",
   "execution_count": 44,
   "metadata": {},
   "outputs": [],
   "source": [
    "data = data[['Age','Gender','Total_Bilirubin','Alkaline_Phosphotase','Alamine_Aminotransferase','Albumin','Dataset']]"
   ]
  },
  {
   "cell_type": "code",
   "execution_count": 45,
   "metadata": {},
   "outputs": [
    {
     "data": {
      "text/html": [
       "<div>\n",
       "<style scoped>\n",
       "    .dataframe tbody tr th:only-of-type {\n",
       "        vertical-align: middle;\n",
       "    }\n",
       "\n",
       "    .dataframe tbody tr th {\n",
       "        vertical-align: top;\n",
       "    }\n",
       "\n",
       "    .dataframe thead th {\n",
       "        text-align: right;\n",
       "    }\n",
       "</style>\n",
       "<table border=\"1\" class=\"dataframe\">\n",
       "  <thead>\n",
       "    <tr style=\"text-align: right;\">\n",
       "      <th></th>\n",
       "      <th>Age</th>\n",
       "      <th>Total_Bilirubin</th>\n",
       "      <th>Alkaline_Phosphotase</th>\n",
       "      <th>Alamine_Aminotransferase</th>\n",
       "      <th>Albumin</th>\n",
       "      <th>Dataset</th>\n",
       "    </tr>\n",
       "  </thead>\n",
       "  <tbody>\n",
       "    <tr>\n",
       "      <th>Age</th>\n",
       "      <td>1.000000</td>\n",
       "      <td>-0.001784</td>\n",
       "      <td>0.078725</td>\n",
       "      <td>-0.087588</td>\n",
       "      <td>-0.263572</td>\n",
       "      <td>-0.132566</td>\n",
       "    </tr>\n",
       "    <tr>\n",
       "      <th>Total_Bilirubin</th>\n",
       "      <td>-0.001784</td>\n",
       "      <td>1.000000</td>\n",
       "      <td>0.230618</td>\n",
       "      <td>0.248218</td>\n",
       "      <td>-0.234893</td>\n",
       "      <td>-0.236646</td>\n",
       "    </tr>\n",
       "    <tr>\n",
       "      <th>Alkaline_Phosphotase</th>\n",
       "      <td>0.078725</td>\n",
       "      <td>0.230618</td>\n",
       "      <td>1.000000</td>\n",
       "      <td>0.124850</td>\n",
       "      <td>-0.163282</td>\n",
       "      <td>-0.183249</td>\n",
       "    </tr>\n",
       "    <tr>\n",
       "      <th>Alamine_Aminotransferase</th>\n",
       "      <td>-0.087588</td>\n",
       "      <td>0.248218</td>\n",
       "      <td>0.124850</td>\n",
       "      <td>1.000000</td>\n",
       "      <td>-0.028988</td>\n",
       "      <td>-0.163426</td>\n",
       "    </tr>\n",
       "    <tr>\n",
       "      <th>Albumin</th>\n",
       "      <td>-0.263572</td>\n",
       "      <td>-0.234893</td>\n",
       "      <td>-0.163282</td>\n",
       "      <td>-0.028988</td>\n",
       "      <td>1.000000</td>\n",
       "      <td>0.159035</td>\n",
       "    </tr>\n",
       "    <tr>\n",
       "      <th>Dataset</th>\n",
       "      <td>-0.132566</td>\n",
       "      <td>-0.236646</td>\n",
       "      <td>-0.183249</td>\n",
       "      <td>-0.163426</td>\n",
       "      <td>0.159035</td>\n",
       "      <td>1.000000</td>\n",
       "    </tr>\n",
       "  </tbody>\n",
       "</table>\n",
       "</div>"
      ],
      "text/plain": [
       "                               Age  Total_Bilirubin  Alkaline_Phosphotase  \\\n",
       "Age                       1.000000        -0.001784              0.078725   \n",
       "Total_Bilirubin          -0.001784         1.000000              0.230618   \n",
       "Alkaline_Phosphotase      0.078725         0.230618              1.000000   \n",
       "Alamine_Aminotransferase -0.087588         0.248218              0.124850   \n",
       "Albumin                  -0.263572        -0.234893             -0.163282   \n",
       "Dataset                  -0.132566        -0.236646             -0.183249   \n",
       "\n",
       "                          Alamine_Aminotransferase   Albumin   Dataset  \n",
       "Age                                      -0.087588 -0.263572 -0.132566  \n",
       "Total_Bilirubin                           0.248218 -0.234893 -0.236646  \n",
       "Alkaline_Phosphotase                      0.124850 -0.163282 -0.183249  \n",
       "Alamine_Aminotransferase                  1.000000 -0.028988 -0.163426  \n",
       "Albumin                                  -0.028988  1.000000  0.159035  \n",
       "Dataset                                  -0.163426  0.159035  1.000000  "
      ]
     },
     "execution_count": 45,
     "metadata": {},
     "output_type": "execute_result"
    }
   ],
   "source": [
    "data.corr()"
   ]
  },
  {
   "cell_type": "code",
   "execution_count": 60,
   "metadata": {},
   "outputs": [
    {
     "name": "stdout",
     "output_type": "stream",
     "text": [
      "<class 'pandas.core.frame.DataFrame'>\n",
      "Int64Index: 578 entries, 246 to 283\n",
      "Data columns (total 7 columns):\n",
      "Age                         578 non-null int64\n",
      "Gender                      578 non-null object\n",
      "Total_Bilirubin             578 non-null float64\n",
      "Alkaline_Phosphotase        578 non-null int64\n",
      "Alamine_Aminotransferase    578 non-null int64\n",
      "Albumin                     578 non-null float64\n",
      "Dataset                     578 non-null int64\n",
      "dtypes: float64(2), int64(4), object(1)\n",
      "memory usage: 36.1+ KB\n"
     ]
    }
   ],
   "source": [
    "data.info()"
   ]
  },
  {
   "cell_type": "code",
   "execution_count": 83,
   "metadata": {},
   "outputs": [
    {
     "name": "stdout",
     "output_type": "stream",
     "text": [
      "Number of Liver patients is 413 and non-liver patients is 165 \n",
      "\n",
      "10% of liver is 41 and 10% of non-liver is 16 \n",
      "\n",
      "<class 'pandas.core.frame.DataFrame'>\n",
      "Int64Index: 57 entries, 0 to 132\n",
      "Data columns (total 7 columns):\n",
      "Age                         57 non-null int64\n",
      "Gender                      57 non-null object\n",
      "Total_Bilirubin             57 non-null float64\n",
      "Alkaline_Phosphotase        57 non-null int64\n",
      "Alamine_Aminotransferase    57 non-null int64\n",
      "Albumin                     57 non-null float64\n",
      "Dataset                     57 non-null int64\n",
      "dtypes: float64(2), int64(4), object(1)\n",
      "memory usage: 3.6+ KB\n",
      "\n",
      "\n",
      "<class 'pandas.core.frame.DataFrame'>\n",
      "Int64Index: 521 entries, 41 to 577\n",
      "Data columns (total 7 columns):\n",
      "Age                         521 non-null int64\n",
      "Gender                      521 non-null object\n",
      "Total_Bilirubin             521 non-null float64\n",
      "Alkaline_Phosphotase        521 non-null int64\n",
      "Alamine_Aminotransferase    521 non-null int64\n",
      "Albumin                     521 non-null float64\n",
      "Dataset                     521 non-null int64\n",
      "dtypes: float64(2), int64(4), object(1)\n",
      "memory usage: 32.6+ KB\n"
     ]
    }
   ],
   "source": [
    "\n",
    "liver = data[data.Dataset ==1]\n",
    "non_liver = data[data.Dataset ==2]\n",
    "\n",
    "print(f\"Number of Liver patients is {len(liver)} and non-liver patients is {len(non_liver)} \\n\")\n",
    "\n",
    "liver_test_number = int(0.1*len(liver))\n",
    "non_liver_test_number = int(0.1*len(non_liver))\n",
    "print(f\"10% of liver is {liver_test_number} and 10% of non-liver is {non_liver_test_number} \\n\")\n",
    "\n",
    "# display (liver)\n",
    "# display(non_liver)\n",
    "\n",
    "test_pieces = [liver[:liver_test_number],non_liver[:non_liver_test_number]]\n",
    "test_set = pd.concat(test_pieces)\n",
    "test_set.reset_index(drop=True)\n",
    "\n",
    "study_pieces = [liver[liver_test_number:], non_liver[non_liver_test_number:]]\n",
    "study_set= pd.concat(study_pieces)\n",
    "study_set.reset_index(drop = True)\n",
    "\n",
    "\n",
    "test_set.info()\n",
    "print('\\n')\n",
    "study_set.info()\n"
   ]
  },
  {
   "cell_type": "code",
   "execution_count": 84,
   "metadata": {},
   "outputs": [
    {
     "data": {
      "text/plain": [
       "1    41\n",
       "2    16\n",
       "Name: Dataset, dtype: int64"
      ]
     },
     "execution_count": 84,
     "metadata": {},
     "output_type": "execute_result"
    }
   ],
   "source": [
    "test_set.Dataset.value_counts()"
   ]
  },
  {
   "cell_type": "code",
   "execution_count": 85,
   "metadata": {},
   "outputs": [
    {
     "data": {
      "text/plain": [
       "1    372\n",
       "2    149\n",
       "Name: Dataset, dtype: int64"
      ]
     },
     "execution_count": 85,
     "metadata": {},
     "output_type": "execute_result"
    }
   ],
   "source": [
    "study_set.Dataset.value_counts()"
   ]
  },
  {
   "cell_type": "raw",
   "metadata": {},
   "source": [
    "The problem of classification (liver or non liver patient (1 or 2))"
   ]
  }
 ],
 "metadata": {
  "kernelspec": {
   "display_name": "Python 3",
   "language": "python",
   "name": "python3"
  },
  "language_info": {
   "codemirror_mode": {
    "name": "ipython",
    "version": 3
   },
   "file_extension": ".py",
   "mimetype": "text/x-python",
   "name": "python",
   "nbconvert_exporter": "python",
   "pygments_lexer": "ipython3",
   "version": "3.7.3"
  }
 },
 "nbformat": 4,
 "nbformat_minor": 2
}
